{
 "cells": [
  {
   "cell_type": "markdown",
   "metadata": {},
   "source": [
    "# Useful tools for taxonomy\n",
    "\n",
    "## `ete3`\n",
    "- Python3 library and command line tool\n",
    "- [ETE toolkit](http://etetoolkit.org/) (best installed with Conda)  \n",
    "- [NCBITaxa tutorial](http://etetoolkit.org/docs/latest/tutorial/tutorial_ncbitaxonomy.html) (very good IMHO)"
   ]
  },
  {
   "cell_type": "code",
   "execution_count": 32,
   "metadata": {},
   "outputs": [],
   "source": [
    "from ete3 import NCBITaxa\n",
    "ncbi = NCBITaxa()"
   ]
  },
  {
   "cell_type": "code",
   "execution_count": 41,
   "metadata": {},
   "outputs": [],
   "source": [
    "lineage = ncbi.get_lineage(9606)  # Human taxid"
   ]
  },
  {
   "cell_type": "code",
   "execution_count": 43,
   "metadata": {},
   "outputs": [
    {
     "name": "stdout",
     "output_type": "stream",
     "text": [
      "[1, 131567, 2759, 33154, 33208, 6072, 33213, 33511, 7711, 89593, 7742, 7776, 117570, 117571, 8287, 1338369, 32523, 32524, 40674, 32525, 9347, 1437010, 314146, 9443, 376913, 314293, 9526, 314295, 9604, 207598, 9605, 9606]\n"
     ]
    }
   ],
   "source": [
    "print(lineage)  # Get lineage taxids"
   ]
  },
  {
   "cell_type": "code",
   "execution_count": 44,
   "metadata": {},
   "outputs": [],
   "source": [
    "tree = ncbi.get_topology([9606, 9598, 10090, 7707, 8782])  # Get topology for several taxids of interest"
   ]
  },
  {
   "cell_type": "code",
   "execution_count": 45,
   "metadata": {},
   "outputs": [
    {
     "name": "stdout",
     "output_type": "stream",
     "text": [
      "\n",
      "   /-7707\n",
      "  |\n",
      "  |         /-9606\n",
      "--|      /-|\n",
      "  |   /-|   \\-9598\n",
      "  |  |  |\n",
      "   \\-|   \\-10090\n",
      "     |\n",
      "      \\-8782\n"
     ]
    }
   ],
   "source": [
    "print(tree)"
   ]
  },
  {
   "cell_type": "code",
   "execution_count": 46,
   "metadata": {},
   "outputs": [
    {
     "name": "stdout",
     "output_type": "stream",
     "text": [
      "\n",
      "                      /-Dendrochirotida, order\n",
      "                     |\n",
      "                     |                                                                /-Homo sapiens, species\n",
      "-Deuterostomia, no rank                                           /Homininae, subfamily\n",
      "                     |                /Euarchontoglires, superorder                   \\-Pan troglodytes, species\n",
      "                     |               |                           |\n",
      "                      \\Amniota, no rank                           \\-Mus musculus, species\n",
      "                                     |\n",
      "                                      \\-Aves, class\n"
     ]
    }
   ],
   "source": [
    "print(tree.get_ascii(attributes=[\"sci_name\", \"rank\"]))  # Print more usefully labelled tree"
   ]
  },
  {
   "cell_type": "code",
   "execution_count": 52,
   "metadata": {},
   "outputs": [
    {
     "name": "stdout",
     "output_type": "stream",
     "text": [
      "\n",
      "          /-Homo sapiens, 9606\n",
      "-Homo, 9605\n",
      "          \\-Homo heidelbergensis, 1425170\n"
     ]
    }
   ],
   "source": [
    "# Get all descendents of a scientific taxon name of interest\n",
    "tree = ncbi.get_descendant_taxa('Homo', collapse_subspecies=True, return_tree=True)\n",
    "print(tree.get_ascii(attributes=['sci_name', 'taxid']))"
   ]
  },
  {
   "cell_type": "code",
   "execution_count": 55,
   "metadata": {},
   "outputs": [
    {
     "data": {
      "text/plain": [
       "{'Apoda': [287107]}"
      ]
     },
     "execution_count": 55,
     "metadata": {},
     "output_type": "execute_result"
    }
   ],
   "source": [
    "# Fetch taxid of interest\n",
    "apoda_translated = ncbi.get_name_translator(['Apoda'])\n",
    "apoda_translated"
   ]
  },
  {
   "cell_type": "code",
   "execution_count": 56,
   "metadata": {},
   "outputs": [
    {
     "data": {
      "text/plain": [
       "287107"
      ]
     },
     "execution_count": 56,
     "metadata": {},
     "output_type": "execute_result"
    }
   ],
   "source": [
    "# Just taxid as an int\n",
    "apoda_taxid = int(list(ncbi.get_name_translator(['Apoda'], ).values())[0][0])\n",
    "apoda_taxid"
   ]
  },
  {
   "cell_type": "markdown",
   "metadata": {},
   "source": [
    "## EBI taxonomy REST API\n",
    "\n",
    "[Overview](https://www.ebi.ac.uk/ena/browse/taxonomy-service)\n",
    "\n",
    "\n",
    "### From scientific name"
   ]
  },
  {
   "cell_type": "code",
   "execution_count": 63,
   "metadata": {},
   "outputs": [
    {
     "data": {
      "text/plain": [
       "[{'division': 'VRT',\n",
       "  'formalName': 'false',\n",
       "  'geneticCode': '1',\n",
       "  'lineage': 'Eukaryota; Metazoa; Chordata; Craniata; Vertebrata; Euteleostomi; Amphibia; Batrachia; Caudata; ',\n",
       "  'mitochondrialGeneticCode': '2',\n",
       "  'rank': 'superfamily',\n",
       "  'scientificName': 'Cryptobranchoidea',\n",
       "  'submittable': 'false',\n",
       "  'taxId': '30364'}]"
      ]
     },
     "execution_count": 63,
     "metadata": {},
     "output_type": "execute_result"
    }
   ],
   "source": [
    "import requests\n",
    "\n",
    "r = requests.get('https://www.ebi.ac.uk/ena/data/taxonomy/v1/taxon/scientific-name/Cryptobranchoidea')\n",
    "r.json()"
   ]
  },
  {
   "cell_type": "markdown",
   "metadata": {},
   "source": [
    "### From common name"
   ]
  },
  {
   "cell_type": "code",
   "execution_count": 65,
   "metadata": {},
   "outputs": [
    {
     "data": {
      "text/plain": [
       "[{'commonName': 'frogs and toads',\n",
       "  'division': 'VRT',\n",
       "  'formalName': 'false',\n",
       "  'geneticCode': '1',\n",
       "  'lineage': 'Eukaryota; Metazoa; Chordata; Craniata; Vertebrata; Euteleostomi; Amphibia; Batrachia; ',\n",
       "  'mitochondrialGeneticCode': '2',\n",
       "  'rank': 'order',\n",
       "  'scientificName': 'Anura',\n",
       "  'submittable': 'false',\n",
       "  'taxId': '8342'}]"
      ]
     },
     "execution_count": 65,
     "metadata": {},
     "output_type": "execute_result"
    }
   ],
   "source": [
    "requests.get('https://www.ebi.ac.uk/ena/data/taxonomy/v1/taxon/any-name/frogs').json()"
   ]
  }
 ],
 "metadata": {
  "kernelspec": {
   "display_name": "Python (py34ete)",
   "language": "python",
   "name": "py34ete"
  },
  "language_info": {
   "codemirror_mode": {
    "name": "ipython",
    "version": 3
   },
   "file_extension": ".py",
   "mimetype": "text/x-python",
   "name": "python",
   "nbconvert_exporter": "python",
   "pygments_lexer": "ipython3",
   "version": "3.4.5"
  }
 },
 "nbformat": 4,
 "nbformat_minor": 2
}
