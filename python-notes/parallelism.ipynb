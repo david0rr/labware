{
 "cells": [
  {
   "cell_type": "markdown",
   "metadata": {},
   "source": [
    "## Chunked-based parallel dictionary processing\n",
    "\n",
    "The fastest way to process a large dictionary is often in several large chunks (generally one per core).\n",
    "\n",
    "- 1) Split large `dict` into smaller `dict`s with `chunkify()`\n",
    "- 2) scatter `process_chunk()` function in parallel to each chunk\n",
    "    - In this case returning a `dict`\n",
    "- 3) gather returned `dict`s using `dechunkify()`"
   ]
  },
  {
   "cell_type": "code",
   "execution_count": 16,
   "metadata": {},
   "outputs": [],
   "source": [
    "import itertools\n",
    "import concurrent.futures\n",
    "from collections import defaultdict\n",
    "\n",
    "fusions = {'F35695': {'221301': ['675442', '771550', '629707'], '221299': ['675442', '771550', '629718'], '221303': ['675442', '726842', '771553', '629719', '629707']}, 'F239376': {'1062597': ['1062602', '1062603', '1062604', '173763'], '1062600': ['1062602', '1062603', '1062604', '1065120', '1065121', '1146085', '173763'], '1062598': ['1062602', '1062603', '1062604', '1065120', '1065121', '1146085', '173763']}, 'F204804': {'1099895': ['944468', '372572', '656463', '656464'], '944496': ['944460', '944468', '372572', '852930', '898333', '944462', '944466', '944474', '944483', '656463', '656464']}}\n",
    "accessions_species = {'221301': 'CAPTE30046', '675442': 'LOXAF12298', '771550': 'MYOLU22413', '629707': 'ORYLA11790', '221299': 'CAEEL02237', '629718': 'BRAFL08488', '221303': 'MODNO30045', '726842': 'AMPQE22412', '771553': 'HUMAN22411', '629719': 'AMPQE44521', '1062597': 'AEDAE96834', '1062602': 'NEMVE18476', '1062603': 'ANOGA11254', '1062604': 'ETCHE45469', '173763': 'ANOCA74874', '1062600': 'MNELE13164', '1065120': 'AMPQE45287', '1065121': 'HUMAN36598', '1146085': 'CHICK11478', '1062598': 'MOUSE95987', '1099895': 'NOMLE33658', '944468': 'HUMAN32548', '372572': 'MONDO25489', '656463': 'MOUSE55694', '656464': 'MACEU59968', '944496': 'NOMLE64471', '944460': 'MOUSE19482', '852930': 'CHICK36369', '898333': 'NOMLE37198', '944462': 'LATCH91348', '944466': 'PROCA36198', '944474': 'TAKRU18746', '944483': 'TAEGU28287'}"
   ]
  },
  {
   "cell_type": "code",
   "execution_count": 19,
   "metadata": {},
   "outputs": [],
   "source": [
    "def pmap(function, iterable, workers=4):\n",
    "    '''Apply a function to an iterable using parallel worker processes'''\n",
    "    with concurrent.futures.ProcessPoolExecutor(max_workers=workers) as x:\n",
    "        return [r for r in x.map(function, iterable)]\n",
    "\n",
    "def chunkify(d, n=4):\n",
    "    '''Create a generator of n evenly sized chunks of dictionary d'''\n",
    "    chunksize = int(len(d)/n)\n",
    "    it = iter(d)\n",
    "    for i in range(0, len(d), chunksize):\n",
    "        yield {k:d[k] for k in itertools.islice(it, chunksize)}\n",
    "\n",
    "def dechunkify(chunks):\n",
    "    '''Merge a chunked dictionary (list of dicts)'''\n",
    "    dechunked = {}\n",
    "    for chunk in chunks:\n",
    "        for k, v in chunk.items():\n",
    "            dechunked[k] = v\n",
    "    return dechunked\n",
    "\n",
    "def process_chunk(chunk):\n",
    "    '''Data-specific function returning modified dict of same structure'''\n",
    "    translated_chunk = defaultdict(dict)\n",
    "    for family, fusions in chunk.items():\n",
    "        for fusion, components in fusions.items():\n",
    "            fusion_parent = accessions_species[fusion]\n",
    "            component_parents = [accessions_species[c] for c in components]\n",
    "            translated_chunk[family][fusion_parent] = component_parents\n",
    "    return dict(translated_chunk)"
   ]
  },
  {
   "cell_type": "code",
   "execution_count": 18,
   "metadata": {},
   "outputs": [],
   "source": [
    "chunks = chunkify(fusions, 3)\n",
    "scattered = pmap(process_chunk, chunks, workers=4)\n",
    "gathered = dechunkify(scattered)"
   ]
  }
 ],
 "metadata": {
  "kernelspec": {
   "display_name": "Python 3",
   "language": "python",
   "name": "python3"
  },
  "language_info": {
   "codemirror_mode": {
    "name": "ipython",
    "version": 3
   },
   "file_extension": ".py",
   "mimetype": "text/x-python",
   "name": "python",
   "nbconvert_exporter": "python",
   "pygments_lexer": "ipython3",
   "version": "3.6.5"
  }
 },
 "nbformat": 4,
 "nbformat_minor": 2
}
